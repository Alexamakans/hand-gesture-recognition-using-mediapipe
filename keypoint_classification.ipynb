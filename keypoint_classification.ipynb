{
 "cells": [
  {
   "cell_type": "code",
   "execution_count": 1,
   "metadata": {},
   "outputs": [],
   "source": [
    "import csv\n",
    "\n",
    "import numpy as np\n",
    "import tensorflow as tf\n",
    "from sklearn.model_selection import train_test_split\n",
    "\n",
    "RANDOM_SEED = 42"
   ]
  },
  {
   "cell_type": "markdown",
   "metadata": {},
   "source": [
    "# 各パス指定"
   ]
  },
  {
   "cell_type": "code",
   "execution_count": 2,
   "metadata": {},
   "outputs": [],
   "source": [
    "dataset = 'model/keypoint_classifier/keypoint.csv'\n",
    "model_save_path = 'model/keypoint_classifier/keypoint_classifier.hdf5'"
   ]
  },
  {
   "cell_type": "markdown",
   "metadata": {},
   "source": [
    "# 分類数設定"
   ]
  },
  {
   "cell_type": "code",
   "execution_count": 3,
   "metadata": {},
   "outputs": [],
   "source": [
    "NUM_CLASSES = 4"
   ]
  },
  {
   "cell_type": "markdown",
   "metadata": {},
   "source": [
    "# 学習データ読み込み"
   ]
  },
  {
   "cell_type": "code",
   "execution_count": 4,
   "metadata": {},
   "outputs": [],
   "source": [
    "X_dataset = np.loadtxt(dataset, delimiter=',', dtype='float32', usecols=list(range(1, (21 * 2) + 1)))"
   ]
  },
  {
   "cell_type": "code",
   "execution_count": 5,
   "metadata": {},
   "outputs": [],
   "source": [
    "y_dataset = np.loadtxt(dataset, delimiter=',', dtype='int32', usecols=(0))"
   ]
  },
  {
   "cell_type": "code",
   "execution_count": 6,
   "metadata": {},
   "outputs": [],
   "source": [
    "X_train, X_test, y_train, y_test = train_test_split(X_dataset, y_dataset, train_size=0.75, random_state=RANDOM_SEED)"
   ]
  },
  {
   "cell_type": "markdown",
   "metadata": {},
   "source": [
    "# モデル構築"
   ]
  },
  {
   "cell_type": "code",
   "execution_count": 7,
   "metadata": {},
   "outputs": [],
   "source": [
    "model = tf.keras.models.Sequential([\n",
    "    tf.keras.layers.Input((21 * 2, )),\n",
    "    tf.keras.layers.Dropout(0.2),\n",
    "    tf.keras.layers.Dense(20, activation='relu'),\n",
    "    tf.keras.layers.Dropout(0.4),\n",
    "    tf.keras.layers.Dense(10, activation='relu'),\n",
    "    tf.keras.layers.Dense(NUM_CLASSES, activation='softmax')\n",
    "])"
   ]
  },
  {
   "cell_type": "code",
   "execution_count": 8,
   "metadata": {},
   "outputs": [
    {
     "name": "stdout",
     "output_type": "stream",
     "text": [
      "Model: \"sequential\"\n",
      "_________________________________________________________________\n",
      " Layer (type)                Output Shape              Param #   \n",
      "=================================================================\n",
      " dropout (Dropout)           (None, 42)                0         \n",
      "                                                                 \n",
      " dense (Dense)               (None, 20)                860       \n",
      "                                                                 \n",
      " dropout_1 (Dropout)         (None, 20)                0         \n",
      "                                                                 \n",
      " dense_1 (Dense)             (None, 10)                210       \n",
      "                                                                 \n",
      " dense_2 (Dense)             (None, 4)                 44        \n",
      "                                                                 \n",
      "=================================================================\n",
      "Total params: 1,114\n",
      "Trainable params: 1,114\n",
      "Non-trainable params: 0\n",
      "_________________________________________________________________\n"
     ]
    }
   ],
   "source": [
    "model.summary()  # tf.keras.utils.plot_model(model, show_shapes=True)"
   ]
  },
  {
   "cell_type": "code",
   "execution_count": 9,
   "metadata": {},
   "outputs": [],
   "source": [
    "# モデルチェックポイントのコールバック\n",
    "cp_callback = tf.keras.callbacks.ModelCheckpoint(\n",
    "    model_save_path, verbose=1, save_weights_only=False)\n",
    "# 早期打ち切り用コールバック\n",
    "es_callback = tf.keras.callbacks.EarlyStopping(patience=20, verbose=1)"
   ]
  },
  {
   "cell_type": "code",
   "execution_count": 10,
   "metadata": {},
   "outputs": [],
   "source": [
    "# モデルコンパイル\n",
    "model.compile(\n",
    "    optimizer='adam',\n",
    "    loss='sparse_categorical_crossentropy',\n",
    "    metrics=['accuracy']\n",
    ")"
   ]
  },
  {
   "cell_type": "markdown",
   "metadata": {},
   "source": [
    "# モデル訓練"
   ]
  },
  {
   "cell_type": "code",
   "execution_count": 11,
   "metadata": {
    "scrolled": true
   },
   "outputs": [
    {
     "name": "stdout",
     "output_type": "stream",
     "text": [
      "Epoch 1/1000\n",
      " 1/30 [>.............................] - ETA: 7s - loss: 1.6716 - accuracy: 0.1016\n",
      "Epoch 1: saving model to model/keypoint_classifier\\keypoint_classifier.hdf5\n",
      "30/30 [==============================] - 0s 6ms/step - loss: 1.5001 - accuracy: 0.1935 - val_loss: 1.3632 - val_accuracy: 0.4238\n",
      "Epoch 2/1000\n",
      " 1/30 [>.............................] - ETA: 0s - loss: 1.3813 - accuracy: 0.2812\n",
      "Epoch 2: saving model to model/keypoint_classifier\\keypoint_classifier.hdf5\n",
      "30/30 [==============================] - 0s 2ms/step - loss: 1.3585 - accuracy: 0.3054 - val_loss: 1.3001 - val_accuracy: 0.3883\n",
      "Epoch 3/1000\n",
      " 1/30 [>.............................] - ETA: 0s - loss: 1.3073 - accuracy: 0.4297\n",
      "Epoch 3: saving model to model/keypoint_classifier\\keypoint_classifier.hdf5\n",
      "30/30 [==============================] - 0s 2ms/step - loss: 1.2914 - accuracy: 0.3623 - val_loss: 1.2141 - val_accuracy: 0.5209\n",
      "Epoch 4/1000\n",
      " 1/30 [>.............................] - ETA: 0s - loss: 1.2902 - accuracy: 0.3359\n",
      "Epoch 4: saving model to model/keypoint_classifier\\keypoint_classifier.hdf5\n",
      "30/30 [==============================] - 0s 2ms/step - loss: 1.2382 - accuracy: 0.3984 - val_loss: 1.1371 - val_accuracy: 0.4909\n",
      "Epoch 5/1000\n",
      " 1/30 [>.............................] - ETA: 0s - loss: 1.1980 - accuracy: 0.4141\n",
      "Epoch 5: saving model to model/keypoint_classifier\\keypoint_classifier.hdf5\n",
      "30/30 [==============================] - 0s 2ms/step - loss: 1.1771 - accuracy: 0.4376 - val_loss: 1.0635 - val_accuracy: 0.5809\n",
      "Epoch 6/1000\n",
      " 1/30 [>.............................] - ETA: 0s - loss: 1.1393 - accuracy: 0.4531\n",
      "Epoch 6: saving model to model/keypoint_classifier\\keypoint_classifier.hdf5\n",
      "30/30 [==============================] - 0s 2ms/step - loss: 1.1242 - accuracy: 0.4692 - val_loss: 0.9983 - val_accuracy: 0.6369\n",
      "Epoch 7/1000\n",
      " 1/30 [>.............................] - ETA: 0s - loss: 1.0676 - accuracy: 0.5234\n",
      "Epoch 7: saving model to model/keypoint_classifier\\keypoint_classifier.hdf5\n",
      "30/30 [==============================] - 0s 2ms/step - loss: 1.0950 - accuracy: 0.5021 - val_loss: 0.9322 - val_accuracy: 0.6835\n",
      "Epoch 8/1000\n",
      " 1/30 [>.............................] - ETA: 0s - loss: 0.9860 - accuracy: 0.5859\n",
      "Epoch 8: saving model to model/keypoint_classifier\\keypoint_classifier.hdf5\n",
      "30/30 [==============================] - 0s 2ms/step - loss: 1.0407 - accuracy: 0.5311 - val_loss: 0.8730 - val_accuracy: 0.6914\n",
      "Epoch 9/1000\n",
      " 1/30 [>.............................] - ETA: 0s - loss: 0.9730 - accuracy: 0.5859\n",
      "Epoch 9: saving model to model/keypoint_classifier\\keypoint_classifier.hdf5\n",
      "30/30 [==============================] - 0s 2ms/step - loss: 1.0036 - accuracy: 0.5463 - val_loss: 0.8173 - val_accuracy: 0.7119\n",
      "Epoch 10/1000\n",
      " 1/30 [>.............................] - ETA: 0s - loss: 0.9228 - accuracy: 0.6406\n",
      "Epoch 10: saving model to model/keypoint_classifier\\keypoint_classifier.hdf5\n",
      "30/30 [==============================] - 0s 2ms/step - loss: 0.9638 - accuracy: 0.5742 - val_loss: 0.7680 - val_accuracy: 0.7245\n",
      "Epoch 11/1000\n",
      " 1/30 [>.............................] - ETA: 0s - loss: 0.9662 - accuracy: 0.5469\n",
      "Epoch 11: saving model to model/keypoint_classifier\\keypoint_classifier.hdf5\n",
      "30/30 [==============================] - 0s 2ms/step - loss: 0.9437 - accuracy: 0.5740 - val_loss: 0.7332 - val_accuracy: 0.7601\n",
      "Epoch 12/1000\n",
      " 1/30 [>.............................] - ETA: 0s - loss: 0.8617 - accuracy: 0.6172\n",
      "Epoch 12: saving model to model/keypoint_classifier\\keypoint_classifier.hdf5\n",
      "30/30 [==============================] - 0s 2ms/step - loss: 0.9323 - accuracy: 0.5893 - val_loss: 0.6943 - val_accuracy: 0.7585\n",
      "Epoch 13/1000\n",
      " 1/30 [>.............................] - ETA: 0s - loss: 0.9400 - accuracy: 0.5859\n",
      "Epoch 13: saving model to model/keypoint_classifier\\keypoint_classifier.hdf5\n",
      "30/30 [==============================] - 0s 2ms/step - loss: 0.8956 - accuracy: 0.6161 - val_loss: 0.6684 - val_accuracy: 0.8074\n",
      "Epoch 14/1000\n",
      " 1/30 [>.............................] - ETA: 0s - loss: 0.9010 - accuracy: 0.6016\n",
      "Epoch 14: saving model to model/keypoint_classifier\\keypoint_classifier.hdf5\n",
      "30/30 [==============================] - 0s 2ms/step - loss: 0.8762 - accuracy: 0.6095 - val_loss: 0.6352 - val_accuracy: 0.7893\n",
      "Epoch 15/1000\n",
      " 1/30 [>.............................] - ETA: 0s - loss: 0.9906 - accuracy: 0.5391\n",
      "Epoch 15: saving model to model/keypoint_classifier\\keypoint_classifier.hdf5\n",
      "30/30 [==============================] - 0s 2ms/step - loss: 0.8593 - accuracy: 0.6259 - val_loss: 0.6154 - val_accuracy: 0.8295\n",
      "Epoch 16/1000\n",
      " 1/30 [>.............................] - ETA: 0s - loss: 0.9203 - accuracy: 0.6250\n",
      "Epoch 16: saving model to model/keypoint_classifier\\keypoint_classifier.hdf5\n",
      "30/30 [==============================] - 0s 2ms/step - loss: 0.8388 - accuracy: 0.6435 - val_loss: 0.5897 - val_accuracy: 0.8358\n",
      "Epoch 17/1000\n",
      " 1/30 [>.............................] - ETA: 0s - loss: 0.9308 - accuracy: 0.6016\n",
      "Epoch 17: saving model to model/keypoint_classifier\\keypoint_classifier.hdf5\n",
      "30/30 [==============================] - 0s 2ms/step - loss: 0.8246 - accuracy: 0.6488 - val_loss: 0.5671 - val_accuracy: 0.8848\n",
      "Epoch 18/1000\n",
      " 1/30 [>.............................] - ETA: 0s - loss: 0.8864 - accuracy: 0.6328\n",
      "Epoch 18: saving model to model/keypoint_classifier\\keypoint_classifier.hdf5\n",
      "30/30 [==============================] - 0s 2ms/step - loss: 0.8046 - accuracy: 0.6524 - val_loss: 0.5536 - val_accuracy: 0.8785\n",
      "Epoch 19/1000\n",
      " 1/30 [>.............................] - ETA: 0s - loss: 0.8519 - accuracy: 0.6172\n",
      "Epoch 19: saving model to model/keypoint_classifier\\keypoint_classifier.hdf5\n",
      "30/30 [==============================] - 0s 2ms/step - loss: 0.7979 - accuracy: 0.6627 - val_loss: 0.5333 - val_accuracy: 0.8863\n",
      "Epoch 20/1000\n",
      " 1/30 [>.............................] - ETA: 0s - loss: 0.8903 - accuracy: 0.6094\n",
      "Epoch 20: saving model to model/keypoint_classifier\\keypoint_classifier.hdf5\n",
      "30/30 [==============================] - 0s 3ms/step - loss: 0.7958 - accuracy: 0.6685 - val_loss: 0.5277 - val_accuracy: 0.8950\n",
      "Epoch 21/1000\n",
      " 1/30 [>.............................] - ETA: 0s - loss: 0.7536 - accuracy: 0.6875\n",
      "Epoch 21: saving model to model/keypoint_classifier\\keypoint_classifier.hdf5\n",
      "30/30 [==============================] - 0s 2ms/step - loss: 0.7721 - accuracy: 0.6714 - val_loss: 0.5064 - val_accuracy: 0.9084\n",
      "Epoch 22/1000\n",
      " 1/30 [>.............................] - ETA: 0s - loss: 0.7980 - accuracy: 0.6562\n",
      "Epoch 22: saving model to model/keypoint_classifier\\keypoint_classifier.hdf5\n",
      "30/30 [==============================] - 0s 2ms/step - loss: 0.7603 - accuracy: 0.6846 - val_loss: 0.4867 - val_accuracy: 0.9061\n",
      "Epoch 23/1000\n",
      " 1/30 [>.............................] - ETA: 0s - loss: 0.8565 - accuracy: 0.6250\n",
      "Epoch 23: saving model to model/keypoint_classifier\\keypoint_classifier.hdf5\n",
      "30/30 [==============================] - 0s 2ms/step - loss: 0.7609 - accuracy: 0.6817 - val_loss: 0.4763 - val_accuracy: 0.9171\n",
      "Epoch 24/1000\n",
      " 1/30 [>.............................] - ETA: 0s - loss: 0.8193 - accuracy: 0.6875\n",
      "Epoch 24: saving model to model/keypoint_classifier\\keypoint_classifier.hdf5\n",
      "30/30 [==============================] - 0s 2ms/step - loss: 0.7491 - accuracy: 0.6927 - val_loss: 0.4672 - val_accuracy: 0.9179\n",
      "Epoch 25/1000\n",
      " 1/30 [>.............................] - ETA: 0s - loss: 0.8312 - accuracy: 0.6172\n",
      "Epoch 25: saving model to model/keypoint_classifier\\keypoint_classifier.hdf5\n",
      "30/30 [==============================] - 0s 2ms/step - loss: 0.7352 - accuracy: 0.7014 - val_loss: 0.4588 - val_accuracy: 0.9219\n",
      "Epoch 26/1000\n",
      " 1/30 [>.............................] - ETA: 0s - loss: 0.8151 - accuracy: 0.6641\n",
      "Epoch 26: saving model to model/keypoint_classifier\\keypoint_classifier.hdf5\n",
      "30/30 [==============================] - 0s 3ms/step - loss: 0.7288 - accuracy: 0.7067 - val_loss: 0.4446 - val_accuracy: 0.9258\n",
      "Epoch 27/1000\n",
      " 1/30 [>.............................] - ETA: 0s - loss: 0.8083 - accuracy: 0.6719\n",
      "Epoch 27: saving model to model/keypoint_classifier\\keypoint_classifier.hdf5\n",
      "30/30 [==============================] - 0s 3ms/step - loss: 0.7213 - accuracy: 0.7051 - val_loss: 0.4286 - val_accuracy: 0.9274\n",
      "Epoch 28/1000\n",
      " 1/30 [>.............................] - ETA: 0s - loss: 0.6134 - accuracy: 0.7969\n",
      "Epoch 28: saving model to model/keypoint_classifier\\keypoint_classifier.hdf5\n",
      "30/30 [==============================] - 0s 3ms/step - loss: 0.7195 - accuracy: 0.7096 - val_loss: 0.4295 - val_accuracy: 0.9274\n",
      "Epoch 29/1000\n",
      " 1/30 [>.............................] - ETA: 0s - loss: 0.7873 - accuracy: 0.6875\n",
      "Epoch 29: saving model to model/keypoint_classifier\\keypoint_classifier.hdf5\n",
      "30/30 [==============================] - 0s 3ms/step - loss: 0.7158 - accuracy: 0.7154 - val_loss: 0.4126 - val_accuracy: 0.9321\n",
      "Epoch 30/1000\n",
      " 1/30 [>.............................] - ETA: 0s - loss: 0.7149 - accuracy: 0.7188\n",
      "Epoch 30: saving model to model/keypoint_classifier\\keypoint_classifier.hdf5\n",
      "30/30 [==============================] - 0s 3ms/step - loss: 0.7104 - accuracy: 0.7064 - val_loss: 0.4032 - val_accuracy: 0.9329\n",
      "Epoch 31/1000\n",
      " 1/30 [>.............................] - ETA: 0s - loss: 0.7182 - accuracy: 0.7188\n",
      "Epoch 31: saving model to model/keypoint_classifier\\keypoint_classifier.hdf5\n",
      "30/30 [==============================] - 0s 3ms/step - loss: 0.6877 - accuracy: 0.7312 - val_loss: 0.3936 - val_accuracy: 0.9369\n",
      "Epoch 32/1000\n",
      " 1/30 [>.............................] - ETA: 0s - loss: 0.7423 - accuracy: 0.6953\n",
      "Epoch 32: saving model to model/keypoint_classifier\\keypoint_classifier.hdf5\n",
      "30/30 [==============================] - 0s 3ms/step - loss: 0.6854 - accuracy: 0.7251 - val_loss: 0.3893 - val_accuracy: 0.9408\n",
      "Epoch 33/1000\n",
      " 1/30 [>.............................] - ETA: 0s - loss: 0.6550 - accuracy: 0.7578\n",
      "Epoch 33: saving model to model/keypoint_classifier\\keypoint_classifier.hdf5\n",
      "30/30 [==============================] - 0s 3ms/step - loss: 0.6772 - accuracy: 0.7338 - val_loss: 0.3763 - val_accuracy: 0.9440\n",
      "Epoch 34/1000\n",
      " 1/30 [>.............................] - ETA: 0s - loss: 0.6503 - accuracy: 0.7344\n",
      "Epoch 34: saving model to model/keypoint_classifier\\keypoint_classifier.hdf5\n",
      "30/30 [==============================] - 0s 2ms/step - loss: 0.6664 - accuracy: 0.7320 - val_loss: 0.3769 - val_accuracy: 0.9392\n",
      "Epoch 35/1000\n",
      " 1/30 [>.............................] - ETA: 0s - loss: 0.6495 - accuracy: 0.7266\n",
      "Epoch 35: saving model to model/keypoint_classifier\\keypoint_classifier.hdf5\n",
      "30/30 [==============================] - 0s 2ms/step - loss: 0.6714 - accuracy: 0.7433 - val_loss: 0.3681 - val_accuracy: 0.9408\n",
      "Epoch 36/1000\n",
      " 1/30 [>.............................] - ETA: 0s - loss: 0.7322 - accuracy: 0.7109\n",
      "Epoch 36: saving model to model/keypoint_classifier\\keypoint_classifier.hdf5\n",
      "30/30 [==============================] - 0s 2ms/step - loss: 0.6706 - accuracy: 0.7330 - val_loss: 0.3662 - val_accuracy: 0.9416\n",
      "Epoch 37/1000\n",
      " 1/30 [>.............................] - ETA: 0s - loss: 0.8449 - accuracy: 0.6641\n",
      "Epoch 37: saving model to model/keypoint_classifier\\keypoint_classifier.hdf5\n",
      "30/30 [==============================] - 0s 2ms/step - loss: 0.6649 - accuracy: 0.7459 - val_loss: 0.3587 - val_accuracy: 0.9455\n",
      "Epoch 38/1000\n",
      " 1/30 [>.............................] - ETA: 0s - loss: 0.6372 - accuracy: 0.7188\n",
      "Epoch 38: saving model to model/keypoint_classifier\\keypoint_classifier.hdf5\n",
      "30/30 [==============================] - 0s 2ms/step - loss: 0.6580 - accuracy: 0.7422 - val_loss: 0.3523 - val_accuracy: 0.9455\n",
      "Epoch 39/1000\n",
      " 1/30 [>.............................] - ETA: 0s - loss: 0.7231 - accuracy: 0.6797\n",
      "Epoch 39: saving model to model/keypoint_classifier\\keypoint_classifier.hdf5\n",
      "30/30 [==============================] - 0s 2ms/step - loss: 0.6524 - accuracy: 0.7530 - val_loss: 0.3563 - val_accuracy: 0.9432\n",
      "Epoch 40/1000\n",
      " 1/30 [>.............................] - ETA: 0s - loss: 0.5410 - accuracy: 0.7734\n",
      "Epoch 40: saving model to model/keypoint_classifier\\keypoint_classifier.hdf5\n",
      "30/30 [==============================] - 0s 2ms/step - loss: 0.6446 - accuracy: 0.7467 - val_loss: 0.3512 - val_accuracy: 0.9424\n",
      "Epoch 41/1000\n",
      " 1/30 [>.............................] - ETA: 0s - loss: 0.6069 - accuracy: 0.7500\n",
      "Epoch 41: saving model to model/keypoint_classifier\\keypoint_classifier.hdf5\n",
      "30/30 [==============================] - 0s 2ms/step - loss: 0.6225 - accuracy: 0.7575 - val_loss: 0.3389 - val_accuracy: 0.9432\n",
      "Epoch 42/1000\n",
      " 1/30 [>.............................] - ETA: 0s - loss: 0.5916 - accuracy: 0.7734\n",
      "Epoch 42: saving model to model/keypoint_classifier\\keypoint_classifier.hdf5\n",
      "30/30 [==============================] - 0s 2ms/step - loss: 0.6440 - accuracy: 0.7538 - val_loss: 0.3392 - val_accuracy: 0.9424\n",
      "Epoch 43/1000\n",
      " 1/30 [>.............................] - ETA: 0s - loss: 0.8236 - accuracy: 0.6875\n",
      "Epoch 43: saving model to model/keypoint_classifier\\keypoint_classifier.hdf5\n",
      "30/30 [==============================] - 0s 2ms/step - loss: 0.6284 - accuracy: 0.7659 - val_loss: 0.3313 - val_accuracy: 0.9424\n",
      "Epoch 44/1000\n",
      " 1/30 [>.............................] - ETA: 0s - loss: 0.7646 - accuracy: 0.7188\n",
      "Epoch 44: saving model to model/keypoint_classifier\\keypoint_classifier.hdf5\n",
      "30/30 [==============================] - 0s 2ms/step - loss: 0.6314 - accuracy: 0.7543 - val_loss: 0.3265 - val_accuracy: 0.9440\n",
      "Epoch 45/1000\n",
      " 1/30 [>.............................] - ETA: 0s - loss: 0.5962 - accuracy: 0.8281\n",
      "Epoch 45: saving model to model/keypoint_classifier\\keypoint_classifier.hdf5\n",
      "30/30 [==============================] - 0s 2ms/step - loss: 0.6267 - accuracy: 0.7599 - val_loss: 0.3213 - val_accuracy: 0.9487\n",
      "Epoch 46/1000\n",
      " 1/30 [>.............................] - ETA: 0s - loss: 0.5444 - accuracy: 0.7656\n",
      "Epoch 46: saving model to model/keypoint_classifier\\keypoint_classifier.hdf5\n",
      "30/30 [==============================] - 0s 3ms/step - loss: 0.6153 - accuracy: 0.7662 - val_loss: 0.3210 - val_accuracy: 0.9487\n",
      "Epoch 47/1000\n",
      " 1/30 [>.............................] - ETA: 0s - loss: 0.7187 - accuracy: 0.7266\n",
      "Epoch 47: saving model to model/keypoint_classifier\\keypoint_classifier.hdf5\n",
      "30/30 [==============================] - 0s 2ms/step - loss: 0.6119 - accuracy: 0.7691 - val_loss: 0.3233 - val_accuracy: 0.9479\n",
      "Epoch 48/1000\n",
      " 1/30 [>.............................] - ETA: 0s - loss: 0.5574 - accuracy: 0.7891\n",
      "Epoch 48: saving model to model/keypoint_classifier\\keypoint_classifier.hdf5\n",
      "30/30 [==============================] - 0s 2ms/step - loss: 0.6148 - accuracy: 0.7675 - val_loss: 0.3152 - val_accuracy: 0.9455\n",
      "Epoch 49/1000\n",
      " 1/30 [>.............................] - ETA: 0s - loss: 0.6402 - accuracy: 0.7578\n",
      "Epoch 49: saving model to model/keypoint_classifier\\keypoint_classifier.hdf5\n",
      "30/30 [==============================] - 0s 2ms/step - loss: 0.6016 - accuracy: 0.7688 - val_loss: 0.3104 - val_accuracy: 0.9479\n",
      "Epoch 50/1000\n",
      " 1/30 [>.............................] - ETA: 0s - loss: 0.5655 - accuracy: 0.7812\n",
      "Epoch 50: saving model to model/keypoint_classifier\\keypoint_classifier.hdf5\n",
      "30/30 [==============================] - 0s 2ms/step - loss: 0.5935 - accuracy: 0.7762 - val_loss: 0.3007 - val_accuracy: 0.9519\n",
      "Epoch 51/1000\n",
      " 1/30 [>.............................] - ETA: 0s - loss: 0.5017 - accuracy: 0.8281\n",
      "Epoch 51: saving model to model/keypoint_classifier\\keypoint_classifier.hdf5\n",
      "30/30 [==============================] - 0s 2ms/step - loss: 0.6021 - accuracy: 0.7725 - val_loss: 0.3003 - val_accuracy: 0.9487\n",
      "Epoch 52/1000\n",
      " 1/30 [>.............................] - ETA: 0s - loss: 0.6636 - accuracy: 0.7344\n",
      "Epoch 52: saving model to model/keypoint_classifier\\keypoint_classifier.hdf5\n",
      "30/30 [==============================] - 0s 2ms/step - loss: 0.5958 - accuracy: 0.7762 - val_loss: 0.3039 - val_accuracy: 0.9487\n",
      "Epoch 53/1000\n",
      " 1/30 [>.............................] - ETA: 0s - loss: 0.6414 - accuracy: 0.7422\n",
      "Epoch 53: saving model to model/keypoint_classifier\\keypoint_classifier.hdf5\n",
      "30/30 [==============================] - 0s 2ms/step - loss: 0.5986 - accuracy: 0.7704 - val_loss: 0.2948 - val_accuracy: 0.9542\n",
      "Epoch 54/1000\n",
      " 1/30 [>.............................] - ETA: 0s - loss: 0.5048 - accuracy: 0.8203\n",
      "Epoch 54: saving model to model/keypoint_classifier\\keypoint_classifier.hdf5\n",
      "30/30 [==============================] - 0s 2ms/step - loss: 0.5968 - accuracy: 0.7796 - val_loss: 0.3046 - val_accuracy: 0.9455\n",
      "Epoch 55/1000\n",
      " 1/30 [>.............................] - ETA: 0s - loss: 0.5610 - accuracy: 0.7969\n",
      "Epoch 55: saving model to model/keypoint_classifier\\keypoint_classifier.hdf5\n",
      "30/30 [==============================] - 0s 2ms/step - loss: 0.5979 - accuracy: 0.7694 - val_loss: 0.2923 - val_accuracy: 0.9534\n",
      "Epoch 56/1000\n",
      " 1/30 [>.............................] - ETA: 0s - loss: 0.5703 - accuracy: 0.7656\n",
      "Epoch 56: saving model to model/keypoint_classifier\\keypoint_classifier.hdf5\n",
      "30/30 [==============================] - 0s 2ms/step - loss: 0.5940 - accuracy: 0.7717 - val_loss: 0.2894 - val_accuracy: 0.9526\n",
      "Epoch 57/1000\n",
      " 1/30 [>.............................] - ETA: 0s - loss: 0.5273 - accuracy: 0.8438\n",
      "Epoch 57: saving model to model/keypoint_classifier\\keypoint_classifier.hdf5\n",
      "30/30 [==============================] - 0s 3ms/step - loss: 0.5671 - accuracy: 0.7909 - val_loss: 0.2838 - val_accuracy: 0.9582\n",
      "Epoch 58/1000\n",
      " 1/30 [>.............................] - ETA: 0s - loss: 0.6701 - accuracy: 0.7266\n",
      "Epoch 58: saving model to model/keypoint_classifier\\keypoint_classifier.hdf5\n",
      "30/30 [==============================] - 0s 2ms/step - loss: 0.5814 - accuracy: 0.7820 - val_loss: 0.2856 - val_accuracy: 0.9558\n",
      "Epoch 59/1000\n",
      " 1/30 [>.............................] - ETA: 0s - loss: 0.5274 - accuracy: 0.8281\n",
      "Epoch 59: saving model to model/keypoint_classifier\\keypoint_classifier.hdf5\n",
      "30/30 [==============================] - 0s 3ms/step - loss: 0.5809 - accuracy: 0.7780 - val_loss: 0.2828 - val_accuracy: 0.9463\n",
      "Epoch 60/1000\n",
      " 1/30 [>.............................] - ETA: 0s - loss: 0.6506 - accuracy: 0.7812\n",
      "Epoch 60: saving model to model/keypoint_classifier\\keypoint_classifier.hdf5\n",
      "30/30 [==============================] - 0s 2ms/step - loss: 0.5738 - accuracy: 0.7873 - val_loss: 0.2814 - val_accuracy: 0.9503\n",
      "Epoch 61/1000\n",
      " 1/30 [>.............................] - ETA: 0s - loss: 0.5300 - accuracy: 0.7891\n",
      "Epoch 61: saving model to model/keypoint_classifier\\keypoint_classifier.hdf5\n",
      "30/30 [==============================] - 0s 2ms/step - loss: 0.5869 - accuracy: 0.7812 - val_loss: 0.2857 - val_accuracy: 0.9440\n",
      "Epoch 62/1000\n",
      " 1/30 [>.............................] - ETA: 0s - loss: 0.5064 - accuracy: 0.8203\n",
      "Epoch 62: saving model to model/keypoint_classifier\\keypoint_classifier.hdf5\n",
      "30/30 [==============================] - 0s 2ms/step - loss: 0.5696 - accuracy: 0.7952 - val_loss: 0.2788 - val_accuracy: 0.9526\n",
      "Epoch 63/1000\n",
      " 1/30 [>.............................] - ETA: 0s - loss: 0.4820 - accuracy: 0.8359\n",
      "Epoch 63: saving model to model/keypoint_classifier\\keypoint_classifier.hdf5\n",
      "30/30 [==============================] - 0s 2ms/step - loss: 0.5830 - accuracy: 0.7828 - val_loss: 0.2774 - val_accuracy: 0.9574\n",
      "Epoch 64/1000\n",
      " 1/30 [>.............................] - ETA: 0s - loss: 0.6793 - accuracy: 0.7500\n",
      "Epoch 64: saving model to model/keypoint_classifier\\keypoint_classifier.hdf5\n",
      "30/30 [==============================] - 0s 2ms/step - loss: 0.5742 - accuracy: 0.7888 - val_loss: 0.2840 - val_accuracy: 0.9503\n",
      "Epoch 65/1000\n",
      " 1/30 [>.............................] - ETA: 0s - loss: 0.5201 - accuracy: 0.8203\n",
      "Epoch 65: saving model to model/keypoint_classifier\\keypoint_classifier.hdf5\n",
      "30/30 [==============================] - 0s 2ms/step - loss: 0.5600 - accuracy: 0.7907 - val_loss: 0.2705 - val_accuracy: 0.9534\n",
      "Epoch 66/1000\n",
      " 1/30 [>.............................] - ETA: 0s - loss: 0.5036 - accuracy: 0.8125\n",
      "Epoch 66: saving model to model/keypoint_classifier\\keypoint_classifier.hdf5\n",
      "30/30 [==============================] - 0s 3ms/step - loss: 0.5516 - accuracy: 0.7936 - val_loss: 0.2683 - val_accuracy: 0.9605\n",
      "Epoch 67/1000\n",
      " 1/30 [>.............................] - ETA: 0s - loss: 0.5986 - accuracy: 0.8125\n",
      "Epoch 67: saving model to model/keypoint_classifier\\keypoint_classifier.hdf5\n",
      "30/30 [==============================] - 0s 3ms/step - loss: 0.5447 - accuracy: 0.7944 - val_loss: 0.2657 - val_accuracy: 0.9550\n",
      "Epoch 68/1000\n",
      " 1/30 [>.............................] - ETA: 0s - loss: 0.5474 - accuracy: 0.8047\n",
      "Epoch 68: saving model to model/keypoint_classifier\\keypoint_classifier.hdf5\n",
      "30/30 [==============================] - 0s 3ms/step - loss: 0.5639 - accuracy: 0.7957 - val_loss: 0.2647 - val_accuracy: 0.9582\n",
      "Epoch 69/1000\n",
      " 1/30 [>.............................] - ETA: 0s - loss: 0.6166 - accuracy: 0.7734\n",
      "Epoch 69: saving model to model/keypoint_classifier\\keypoint_classifier.hdf5\n",
      "30/30 [==============================] - 0s 3ms/step - loss: 0.5519 - accuracy: 0.7962 - val_loss: 0.2633 - val_accuracy: 0.9503\n",
      "Epoch 70/1000\n",
      " 1/30 [>.............................] - ETA: 0s - loss: 0.5550 - accuracy: 0.7422\n",
      "Epoch 70: saving model to model/keypoint_classifier\\keypoint_classifier.hdf5\n",
      "30/30 [==============================] - 0s 3ms/step - loss: 0.5571 - accuracy: 0.7923 - val_loss: 0.2634 - val_accuracy: 0.9526\n",
      "Epoch 71/1000\n",
      " 1/30 [>.............................] - ETA: 0s - loss: 0.6283 - accuracy: 0.8047\n",
      "Epoch 71: saving model to model/keypoint_classifier\\keypoint_classifier.hdf5\n",
      "30/30 [==============================] - 0s 3ms/step - loss: 0.5475 - accuracy: 0.7965 - val_loss: 0.2697 - val_accuracy: 0.9479\n",
      "Epoch 72/1000\n",
      " 1/30 [>.............................] - ETA: 0s - loss: 0.5134 - accuracy: 0.8359\n",
      "Epoch 72: saving model to model/keypoint_classifier\\keypoint_classifier.hdf5\n",
      "30/30 [==============================] - 0s 2ms/step - loss: 0.5546 - accuracy: 0.7983 - val_loss: 0.2647 - val_accuracy: 0.9542\n",
      "Epoch 73/1000\n",
      " 1/30 [>.............................] - ETA: 0s - loss: 0.4806 - accuracy: 0.8281\n",
      "Epoch 73: saving model to model/keypoint_classifier\\keypoint_classifier.hdf5\n",
      "30/30 [==============================] - 0s 2ms/step - loss: 0.5445 - accuracy: 0.7912 - val_loss: 0.2611 - val_accuracy: 0.9597\n",
      "Epoch 74/1000\n",
      " 1/30 [>.............................] - ETA: 0s - loss: 0.5172 - accuracy: 0.8047\n",
      "Epoch 74: saving model to model/keypoint_classifier\\keypoint_classifier.hdf5\n",
      "30/30 [==============================] - 0s 2ms/step - loss: 0.5509 - accuracy: 0.8002 - val_loss: 0.2638 - val_accuracy: 0.9511\n",
      "Epoch 75/1000\n",
      " 1/30 [>.............................] - ETA: 0s - loss: 0.4467 - accuracy: 0.8281\n",
      "Epoch 75: saving model to model/keypoint_classifier\\keypoint_classifier.hdf5\n",
      "30/30 [==============================] - 0s 2ms/step - loss: 0.5463 - accuracy: 0.7894 - val_loss: 0.2601 - val_accuracy: 0.9479\n",
      "Epoch 76/1000\n",
      " 1/30 [>.............................] - ETA: 0s - loss: 0.5070 - accuracy: 0.8125\n",
      "Epoch 76: saving model to model/keypoint_classifier\\keypoint_classifier.hdf5\n",
      "30/30 [==============================] - 0s 3ms/step - loss: 0.5407 - accuracy: 0.8046 - val_loss: 0.2581 - val_accuracy: 0.9519\n",
      "Epoch 77/1000\n",
      " 1/30 [>.............................] - ETA: 0s - loss: 0.5120 - accuracy: 0.8516\n",
      "Epoch 77: saving model to model/keypoint_classifier\\keypoint_classifier.hdf5\n",
      "30/30 [==============================] - 0s 2ms/step - loss: 0.5489 - accuracy: 0.7925 - val_loss: 0.2621 - val_accuracy: 0.9471\n",
      "Epoch 78/1000\n",
      " 1/30 [>.............................] - ETA: 0s - loss: 0.5011 - accuracy: 0.7891\n",
      "Epoch 78: saving model to model/keypoint_classifier\\keypoint_classifier.hdf5\n",
      "30/30 [==============================] - 0s 2ms/step - loss: 0.5431 - accuracy: 0.7967 - val_loss: 0.2576 - val_accuracy: 0.9519\n",
      "Epoch 79/1000\n",
      " 1/30 [>.............................] - ETA: 0s - loss: 0.5740 - accuracy: 0.7344\n",
      "Epoch 79: saving model to model/keypoint_classifier\\keypoint_classifier.hdf5\n",
      "30/30 [==============================] - 0s 2ms/step - loss: 0.5345 - accuracy: 0.8017 - val_loss: 0.2555 - val_accuracy: 0.9519\n",
      "Epoch 80/1000\n",
      " 1/30 [>.............................] - ETA: 0s - loss: 0.4856 - accuracy: 0.8203\n",
      "Epoch 80: saving model to model/keypoint_classifier\\keypoint_classifier.hdf5\n",
      "30/30 [==============================] - 0s 2ms/step - loss: 0.5446 - accuracy: 0.7909 - val_loss: 0.2604 - val_accuracy: 0.9448\n",
      "Epoch 81/1000\n",
      " 1/30 [>.............................] - ETA: 0s - loss: 0.5952 - accuracy: 0.7891\n",
      "Epoch 81: saving model to model/keypoint_classifier\\keypoint_classifier.hdf5\n",
      "30/30 [==============================] - 0s 2ms/step - loss: 0.5398 - accuracy: 0.7967 - val_loss: 0.2510 - val_accuracy: 0.9526\n",
      "Epoch 82/1000\n",
      " 1/30 [>.............................] - ETA: 0s - loss: 0.5020 - accuracy: 0.8281\n",
      "Epoch 82: saving model to model/keypoint_classifier\\keypoint_classifier.hdf5\n",
      "30/30 [==============================] - 0s 2ms/step - loss: 0.5441 - accuracy: 0.7933 - val_loss: 0.2515 - val_accuracy: 0.9519\n",
      "Epoch 83/1000\n",
      " 1/30 [>.............................] - ETA: 0s - loss: 0.3656 - accuracy: 0.8828\n",
      "Epoch 83: saving model to model/keypoint_classifier\\keypoint_classifier.hdf5\n",
      "30/30 [==============================] - 0s 2ms/step - loss: 0.5367 - accuracy: 0.8007 - val_loss: 0.2529 - val_accuracy: 0.9519\n",
      "Epoch 84/1000\n",
      " 1/30 [>.............................] - ETA: 0s - loss: 0.5202 - accuracy: 0.8203\n",
      "Epoch 84: saving model to model/keypoint_classifier\\keypoint_classifier.hdf5\n",
      "30/30 [==============================] - 0s 2ms/step - loss: 0.5123 - accuracy: 0.8189 - val_loss: 0.2495 - val_accuracy: 0.9534\n",
      "Epoch 85/1000\n",
      " 1/30 [>.............................] - ETA: 0s - loss: 0.5283 - accuracy: 0.8359\n",
      "Epoch 85: saving model to model/keypoint_classifier\\keypoint_classifier.hdf5\n",
      "30/30 [==============================] - 0s 3ms/step - loss: 0.5397 - accuracy: 0.7973 - val_loss: 0.2510 - val_accuracy: 0.9550\n",
      "Epoch 86/1000\n",
      " 1/30 [>.............................] - ETA: 0s - loss: 0.6336 - accuracy: 0.7656\n",
      "Epoch 86: saving model to model/keypoint_classifier\\keypoint_classifier.hdf5\n",
      "30/30 [==============================] - 0s 3ms/step - loss: 0.5457 - accuracy: 0.7996 - val_loss: 0.2514 - val_accuracy: 0.9566\n",
      "Epoch 87/1000\n",
      " 1/30 [>.............................] - ETA: 0s - loss: 0.5601 - accuracy: 0.7812\n",
      "Epoch 87: saving model to model/keypoint_classifier\\keypoint_classifier.hdf5\n",
      "30/30 [==============================] - 0s 3ms/step - loss: 0.5246 - accuracy: 0.8036 - val_loss: 0.2422 - val_accuracy: 0.9550\n",
      "Epoch 88/1000\n",
      " 1/30 [>.............................] - ETA: 0s - loss: 0.6956 - accuracy: 0.7656\n",
      "Epoch 88: saving model to model/keypoint_classifier\\keypoint_classifier.hdf5\n",
      "30/30 [==============================] - 0s 2ms/step - loss: 0.5311 - accuracy: 0.8083 - val_loss: 0.2463 - val_accuracy: 0.9526\n",
      "Epoch 89/1000\n",
      " 1/30 [>.............................] - ETA: 0s - loss: 0.4572 - accuracy: 0.8594\n",
      "Epoch 89: saving model to model/keypoint_classifier\\keypoint_classifier.hdf5\n",
      "30/30 [==============================] - 0s 2ms/step - loss: 0.5354 - accuracy: 0.7938 - val_loss: 0.2560 - val_accuracy: 0.9471\n",
      "Epoch 90/1000\n",
      " 1/30 [>.............................] - ETA: 0s - loss: 0.5399 - accuracy: 0.7969\n",
      "Epoch 90: saving model to model/keypoint_classifier\\keypoint_classifier.hdf5\n",
      "30/30 [==============================] - 0s 3ms/step - loss: 0.5272 - accuracy: 0.8028 - val_loss: 0.2463 - val_accuracy: 0.9534\n",
      "Epoch 91/1000\n",
      " 1/30 [>.............................] - ETA: 0s - loss: 0.4624 - accuracy: 0.8281\n",
      "Epoch 91: saving model to model/keypoint_classifier\\keypoint_classifier.hdf5\n",
      "30/30 [==============================] - 0s 3ms/step - loss: 0.5320 - accuracy: 0.8052 - val_loss: 0.2508 - val_accuracy: 0.9448\n",
      "Epoch 92/1000\n",
      " 1/30 [>.............................] - ETA: 0s - loss: 0.5302 - accuracy: 0.8047\n",
      "Epoch 92: saving model to model/keypoint_classifier\\keypoint_classifier.hdf5\n",
      "30/30 [==============================] - 0s 3ms/step - loss: 0.5219 - accuracy: 0.7999 - val_loss: 0.2468 - val_accuracy: 0.9511\n",
      "Epoch 93/1000\n",
      " 1/30 [>.............................] - ETA: 0s - loss: 0.5660 - accuracy: 0.7969\n",
      "Epoch 93: saving model to model/keypoint_classifier\\keypoint_classifier.hdf5\n",
      "30/30 [==============================] - 0s 3ms/step - loss: 0.5297 - accuracy: 0.8012 - val_loss: 0.2496 - val_accuracy: 0.9526\n",
      "Epoch 94/1000\n",
      " 1/30 [>.............................] - ETA: 0s - loss: 0.5764 - accuracy: 0.7656\n",
      "Epoch 94: saving model to model/keypoint_classifier\\keypoint_classifier.hdf5\n",
      "30/30 [==============================] - 0s 3ms/step - loss: 0.5251 - accuracy: 0.7981 - val_loss: 0.2441 - val_accuracy: 0.9542\n",
      "Epoch 95/1000\n",
      " 1/30 [>.............................] - ETA: 0s - loss: 0.6241 - accuracy: 0.7656\n",
      "Epoch 95: saving model to model/keypoint_classifier\\keypoint_classifier.hdf5\n",
      "30/30 [==============================] - 0s 3ms/step - loss: 0.5184 - accuracy: 0.8031 - val_loss: 0.2409 - val_accuracy: 0.9550\n",
      "Epoch 96/1000\n",
      " 1/30 [>.............................] - ETA: 0s - loss: 0.5769 - accuracy: 0.7656\n",
      "Epoch 96: saving model to model/keypoint_classifier\\keypoint_classifier.hdf5\n",
      "30/30 [==============================] - 0s 3ms/step - loss: 0.5103 - accuracy: 0.8117 - val_loss: 0.2568 - val_accuracy: 0.9455\n",
      "Epoch 97/1000\n",
      " 1/30 [>.............................] - ETA: 0s - loss: 0.5197 - accuracy: 0.8047\n",
      "Epoch 97: saving model to model/keypoint_classifier\\keypoint_classifier.hdf5\n",
      "30/30 [==============================] - 0s 3ms/step - loss: 0.5161 - accuracy: 0.8152 - val_loss: 0.2478 - val_accuracy: 0.9519\n",
      "Epoch 98/1000\n",
      " 1/30 [>.............................] - ETA: 0s - loss: 0.5974 - accuracy: 0.8125\n",
      "Epoch 98: saving model to model/keypoint_classifier\\keypoint_classifier.hdf5\n",
      "30/30 [==============================] - 0s 3ms/step - loss: 0.5084 - accuracy: 0.8128 - val_loss: 0.2435 - val_accuracy: 0.9566\n",
      "Epoch 99/1000\n",
      " 1/30 [>.............................] - ETA: 0s - loss: 0.5341 - accuracy: 0.8047\n",
      "Epoch 99: saving model to model/keypoint_classifier\\keypoint_classifier.hdf5\n",
      "30/30 [==============================] - 0s 3ms/step - loss: 0.5246 - accuracy: 0.8078 - val_loss: 0.2441 - val_accuracy: 0.9503\n",
      "Epoch 100/1000\n",
      " 1/30 [>.............................] - ETA: 0s - loss: 0.5274 - accuracy: 0.8359\n",
      "Epoch 100: saving model to model/keypoint_classifier\\keypoint_classifier.hdf5\n",
      "30/30 [==============================] - 0s 3ms/step - loss: 0.5265 - accuracy: 0.8091 - val_loss: 0.2462 - val_accuracy: 0.9558\n",
      "Epoch 101/1000\n",
      " 1/30 [>.............................] - ETA: 0s - loss: 0.6438 - accuracy: 0.7891\n",
      "Epoch 101: saving model to model/keypoint_classifier\\keypoint_classifier.hdf5\n",
      "30/30 [==============================] - 0s 3ms/step - loss: 0.5195 - accuracy: 0.8060 - val_loss: 0.2463 - val_accuracy: 0.9534\n",
      "Epoch 102/1000\n",
      " 1/30 [>.............................] - ETA: 0s - loss: 0.4392 - accuracy: 0.8359\n",
      "Epoch 102: saving model to model/keypoint_classifier\\keypoint_classifier.hdf5\n",
      "30/30 [==============================] - 0s 3ms/step - loss: 0.5095 - accuracy: 0.8181 - val_loss: 0.2437 - val_accuracy: 0.9542\n",
      "Epoch 103/1000\n",
      " 1/30 [>.............................] - ETA: 0s - loss: 0.4258 - accuracy: 0.8203\n",
      "Epoch 103: saving model to model/keypoint_classifier\\keypoint_classifier.hdf5\n",
      "30/30 [==============================] - 0s 3ms/step - loss: 0.5100 - accuracy: 0.8136 - val_loss: 0.2437 - val_accuracy: 0.9495\n",
      "Epoch 104/1000\n",
      " 1/30 [>.............................] - ETA: 0s - loss: 0.4237 - accuracy: 0.8438\n",
      "Epoch 104: saving model to model/keypoint_classifier\\keypoint_classifier.hdf5\n",
      "30/30 [==============================] - 0s 3ms/step - loss: 0.5213 - accuracy: 0.8102 - val_loss: 0.2487 - val_accuracy: 0.9519\n",
      "Epoch 105/1000\n",
      " 1/30 [>.............................] - ETA: 0s - loss: 0.5190 - accuracy: 0.8125\n",
      "Epoch 105: saving model to model/keypoint_classifier\\keypoint_classifier.hdf5\n",
      "30/30 [==============================] - 0s 3ms/step - loss: 0.5236 - accuracy: 0.8033 - val_loss: 0.2430 - val_accuracy: 0.9550\n",
      "Epoch 106/1000\n",
      " 1/30 [>.............................] - ETA: 0s - loss: 0.4509 - accuracy: 0.8672\n",
      "Epoch 106: saving model to model/keypoint_classifier\\keypoint_classifier.hdf5\n",
      "30/30 [==============================] - 0s 3ms/step - loss: 0.5221 - accuracy: 0.8094 - val_loss: 0.2537 - val_accuracy: 0.9424\n",
      "Epoch 107/1000\n",
      " 1/30 [>.............................] - ETA: 0s - loss: 0.5170 - accuracy: 0.8438\n",
      "Epoch 107: saving model to model/keypoint_classifier\\keypoint_classifier.hdf5\n",
      "30/30 [==============================] - 0s 3ms/step - loss: 0.4950 - accuracy: 0.8173 - val_loss: 0.2433 - val_accuracy: 0.9495\n",
      "Epoch 108/1000\n",
      " 1/30 [>.............................] - ETA: 0s - loss: 0.5492 - accuracy: 0.7656\n",
      "Epoch 108: saving model to model/keypoint_classifier\\keypoint_classifier.hdf5\n",
      "30/30 [==============================] - 0s 3ms/step - loss: 0.5082 - accuracy: 0.8086 - val_loss: 0.2451 - val_accuracy: 0.9519\n",
      "Epoch 109/1000\n",
      " 1/30 [>.............................] - ETA: 0s - loss: 0.5110 - accuracy: 0.7812\n",
      "Epoch 109: saving model to model/keypoint_classifier\\keypoint_classifier.hdf5\n",
      "30/30 [==============================] - 0s 3ms/step - loss: 0.5226 - accuracy: 0.8091 - val_loss: 0.2503 - val_accuracy: 0.9495\n",
      "Epoch 110/1000\n",
      " 1/30 [>.............................] - ETA: 0s - loss: 0.4469 - accuracy: 0.8516\n",
      "Epoch 110: saving model to model/keypoint_classifier\\keypoint_classifier.hdf5\n",
      "30/30 [==============================] - 0s 2ms/step - loss: 0.5085 - accuracy: 0.8120 - val_loss: 0.2478 - val_accuracy: 0.9503\n",
      "Epoch 111/1000\n",
      " 1/30 [>.............................] - ETA: 0s - loss: 0.4520 - accuracy: 0.8047\n",
      "Epoch 111: saving model to model/keypoint_classifier\\keypoint_classifier.hdf5\n",
      "30/30 [==============================] - 0s 2ms/step - loss: 0.5155 - accuracy: 0.8036 - val_loss: 0.2529 - val_accuracy: 0.9448\n",
      "Epoch 112/1000\n",
      " 1/30 [>.............................] - ETA: 0s - loss: 0.4974 - accuracy: 0.8594\n",
      "Epoch 112: saving model to model/keypoint_classifier\\keypoint_classifier.hdf5\n",
      "30/30 [==============================] - 0s 2ms/step - loss: 0.5215 - accuracy: 0.8149 - val_loss: 0.2438 - val_accuracy: 0.9558\n",
      "Epoch 113/1000\n",
      " 1/30 [>.............................] - ETA: 0s - loss: 0.4635 - accuracy: 0.8438\n",
      "Epoch 113: saving model to model/keypoint_classifier\\keypoint_classifier.hdf5\n",
      "30/30 [==============================] - 0s 3ms/step - loss: 0.4968 - accuracy: 0.8183 - val_loss: 0.2487 - val_accuracy: 0.9448\n",
      "Epoch 114/1000\n",
      " 1/30 [>.............................] - ETA: 0s - loss: 0.6161 - accuracy: 0.8203\n",
      "Epoch 114: saving model to model/keypoint_classifier\\keypoint_classifier.hdf5\n",
      "30/30 [==============================] - 0s 2ms/step - loss: 0.5128 - accuracy: 0.8107 - val_loss: 0.2469 - val_accuracy: 0.9519\n",
      "Epoch 115/1000\n",
      " 1/30 [>.............................] - ETA: 0s - loss: 0.5246 - accuracy: 0.8359\n",
      "Epoch 115: saving model to model/keypoint_classifier\\keypoint_classifier.hdf5\n",
      "30/30 [==============================] - 0s 2ms/step - loss: 0.4924 - accuracy: 0.8207 - val_loss: 0.2484 - val_accuracy: 0.9455\n",
      "Epoch 115: early stopping\n"
     ]
    },
    {
     "data": {
      "text/plain": [
       "<keras.callbacks.History at 0x1aaf0066770>"
      ]
     },
     "execution_count": 11,
     "metadata": {},
     "output_type": "execute_result"
    },
    {
     "name": "stdout",
     "output_type": "stream",
     "text": [
      "Epoch 109/1000\n",
      " 1/27 [>.............................] - ETA: 0s - loss: 0.5373 - accuracy: 0.7969\n",
      "Epoch 00109: saving model to model/keypoint_classifier\\keypoint_classifier.hdf5\n",
      "27/27 [==============================] - 0s 3ms/step - loss: 0.4198 - accuracy: 0.8379 - val_loss: 0.1955 - val_accuracy: 0.9659\n",
      "Epoch 110/1000\n",
      " 1/27 [>.............................] - ETA: 0s - loss: 0.3872 - accuracy: 0.8281\n",
      "Epoch 00110: saving model to model/keypoint_classifier\\keypoint_classifier.hdf5\n",
      "27/27 [==============================] - 0s 3ms/step - loss: 0.4077 - accuracy: 0.8505 - val_loss: 0.2020 - val_accuracy: 0.9614\n",
      "Epoch 111/1000\n",
      " 1/27 [>.............................] - ETA: 0s - loss: 0.3474 - accuracy: 0.8828\n",
      "Epoch 00111: saving model to model/keypoint_classifier\\keypoint_classifier.hdf5\n",
      "27/27 [==============================] - 0s 3ms/step - loss: 0.4132 - accuracy: 0.8433 - val_loss: 0.1984 - val_accuracy: 0.9632\n",
      "Epoch 112/1000\n",
      " 1/27 [>.............................] - ETA: 0s - loss: 0.4205 - accuracy: 0.8672\n",
      "Epoch 00112: saving model to model/keypoint_classifier\\keypoint_classifier.hdf5\n",
      "27/27 [==============================] - 0s 3ms/step - loss: 0.4182 - accuracy: 0.8397 - val_loss: 0.1973 - val_accuracy: 0.9614\n",
      "Epoch 113/1000\n",
      " 1/27 [>.............................] - ETA: 0s - loss: 0.4995 - accuracy: 0.8125\n",
      "Epoch 00113: saving model to model/keypoint_classifier\\keypoint_classifier.hdf5\n",
      "27/27 [==============================] - 0s 3ms/step - loss: 0.4042 - accuracy: 0.8478 - val_loss: 0.1922 - val_accuracy: 0.9650\n",
      "Epoch 114/1000\n",
      " 1/27 [>.............................] - ETA: 0s - loss: 0.3640 - accuracy: 0.8750\n",
      "Epoch 00114: saving model to model/keypoint_classifier\\keypoint_classifier.hdf5\n",
      "27/27 [==============================] - 0s 3ms/step - loss: 0.4072 - accuracy: 0.8430 - val_loss: 0.1868 - val_accuracy: 0.9596\n",
      "Epoch 115/1000\n",
      " 1/27 [>.............................] - ETA: 0s - loss: 0.5042 - accuracy: 0.8203\n",
      "Epoch 00115: saving model to model/keypoint_classifier\\keypoint_classifier.hdf5\n",
      "27/27 [==============================] - 0s 3ms/step - loss: 0.3999 - accuracy: 0.8535 - val_loss: 0.1966 - val_accuracy: 0.9605\n",
      "Epoch 116/1000\n",
      " 1/27 [>.............................] - ETA: 0s - loss: 0.5355 - accuracy: 0.7422\n",
      "Epoch 00116: saving model to model/keypoint_classifier\\keypoint_classifier.hdf5\n",
      "27/27 [==============================] - 0s 3ms/step - loss: 0.4174 - accuracy: 0.8433 - val_loss: 0.1919 - val_accuracy: 0.9659\n",
      "Epoch 117/1000\n",
      " 1/27 [>.............................] - ETA: 0s - loss: 0.3729 - accuracy: 0.8750\n",
      "Epoch 00117: saving model to model/keypoint_classifier\\keypoint_classifier.hdf5\n",
      "27/27 [==============================] - 0s 3ms/step - loss: 0.4101 - accuracy: 0.8451 - val_loss: 0.1932 - val_accuracy: 0.9578\n",
      "Epoch 118/1000\n",
      " 1/27 [>.............................] - ETA: 0s - loss: 0.3193 - accuracy: 0.8828\n",
      "Epoch 00118: saving model to model/keypoint_classifier\\keypoint_classifier.hdf5\n",
      "27/27 [==============================] - 0s 3ms/step - loss: 0.4260 - accuracy: 0.8379 - val_loss: 0.1865 - val_accuracy: 0.9641\n",
      "Epoch 119/1000\n",
      " 1/27 [>.............................] - ETA: 0s - loss: 0.3852 - accuracy: 0.8438\n",
      "Epoch 00119: saving model to model/keypoint_classifier\\keypoint_classifier.hdf5\n",
      "27/27 [==============================] - 0s 3ms/step - loss: 0.3797 - accuracy: 0.8622 - val_loss: 0.1900 - val_accuracy: 0.9677\n",
      "Epoch 120/1000\n",
      " 1/27 [>.............................] - ETA: 0s - loss: 0.3636 - accuracy: 0.8594\n",
      "Epoch 00120: saving model to model/keypoint_classifier\\keypoint_classifier.hdf5\n",
      "27/27 [==============================] - 0s 3ms/step - loss: 0.4017 - accuracy: 0.8460 - val_loss: 0.1908 - val_accuracy: 0.9659\n",
      "Epoch 121/1000\n",
      " 1/27 [>.............................] - ETA: 0s - loss: 0.4521 - accuracy: 0.8359\n",
      "Epoch 00121: saving model to model/keypoint_classifier\\keypoint_classifier.hdf5\n",
      "27/27 [==============================] - 0s 3ms/step - loss: 0.4023 - accuracy: 0.8538 - val_loss: 0.1935 - val_accuracy: 0.9659\n",
      "Epoch 122/1000\n",
      " 1/27 [>.............................] - ETA: 0s - loss: 0.4849 - accuracy: 0.8203\n",
      "Epoch 00122: saving model to model/keypoint_classifier\\keypoint_classifier.hdf5\n",
      "27/27 [==============================] - 0s 3ms/step - loss: 0.4186 - accuracy: 0.8457 - val_loss: 0.1937 - val_accuracy: 0.9659\n",
      "Epoch 123/1000\n",
      " 1/27 [>.............................] - ETA: 0s - loss: 0.4021 - accuracy: 0.8516\n",
      "Epoch 00123: saving model to model/keypoint_classifier\\keypoint_classifier.hdf5\n",
      "27/27 [==============================] - 0s 3ms/step - loss: 0.4156 - accuracy: 0.8478 - val_loss: 0.1907 - val_accuracy: 0.9632\n",
      "Epoch 124/1000\n",
      " 1/27 [>.............................] - ETA: 0s - loss: 0.3601 - accuracy: 0.8906\n",
      "Epoch 00124: saving model to model/keypoint_classifier\\keypoint_classifier.hdf5\n",
      "27/27 [==============================] - 0s 3ms/step - loss: 0.3948 - accuracy: 0.8550 - val_loss: 0.1862 - val_accuracy: 0.9605\n",
      "Epoch 125/1000\n",
      " 1/27 [>.............................] - ETA: 0s - loss: 0.4446 - accuracy: 0.7891\n",
      "Epoch 00125: saving model to model/keypoint_classifier\\keypoint_classifier.hdf5\n",
      "27/27 [==============================] - 0s 3ms/step - loss: 0.4152 - accuracy: 0.8520 - val_loss: 0.1888 - val_accuracy: 0.9623\n",
      "Epoch 126/1000\n",
      " 1/27 [>.............................] - ETA: 0s - loss: 0.3733 - accuracy: 0.8438\n",
      "Epoch 00126: saving model to model/keypoint_classifier\\keypoint_classifier.hdf5\n",
      "27/27 [==============================] - 0s 3ms/step - loss: 0.3913 - accuracy: 0.8550 - val_loss: 0.1937 - val_accuracy: 0.9632\n",
      "Epoch 127/1000\n",
      " 1/27 [>.............................] - ETA: 0s - loss: 0.3000 - accuracy: 0.8828\n",
      "Epoch 00127: saving model to model/keypoint_classifier\\keypoint_classifier.hdf5\n",
      "27/27 [==============================] - 0s 3ms/step - loss: 0.3820 - accuracy: 0.8583 - val_loss: 0.1867 - val_accuracy: 0.9632\n",
      "Epoch 00127: early stopping\n"
     ]
    },
    {
     "data": {
      "text/plain": [
       "<tensorflow.python.keras.callbacks.History at 0x2314aafaaf0>"
      ]
     },
     "execution_count": 11,
     "metadata": {},
     "output_type": "execute_result"
    }
   ],
   "source": [
    "model.fit(\n",
    "    X_train,\n",
    "    y_train,\n",
    "    epochs=1000,\n",
    "    batch_size=128,\n",
    "    validation_data=(X_test, y_test),\n",
    "    callbacks=[cp_callback, es_callback]\n",
    ")"
   ]
  },
  {
   "cell_type": "code",
   "execution_count": 12,
   "metadata": {},
   "outputs": [
    {
     "name": "stdout",
     "output_type": "stream",
     "text": [
      "10/10 [==============================] - 0s 839us/step - loss: 0.2484 - accuracy: 0.9455\n"
     ]
    }
   ],
   "source": [
    "# モデル評価\n",
    "val_loss, val_acc = model.evaluate(X_test, y_test, batch_size=128)"
   ]
  },
  {
   "cell_type": "code",
   "execution_count": 13,
   "metadata": {},
   "outputs": [],
   "source": [
    "# 保存したモデルのロード\n",
    "model = tf.keras.models.load_model(model_save_path)"
   ]
  },
  {
   "cell_type": "code",
   "execution_count": 14,
   "metadata": {},
   "outputs": [
    {
     "name": "stdout",
     "output_type": "stream",
     "text": [
      "1/1 [==============================] - 0s 51ms/step\n",
      "[9.1743255e-01 7.8308031e-02 4.1907411e-03 6.8661946e-05]\n",
      "0\n"
     ]
    }
   ],
   "source": [
    "# 推論テスト\n",
    "predict_result = model.predict(np.array([X_test[0]]))\n",
    "print(np.squeeze(predict_result))\n",
    "print(np.argmax(np.squeeze(predict_result)))"
   ]
  },
  {
   "cell_type": "markdown",
   "metadata": {},
   "source": [
    "# 混同行列"
   ]
  },
  {
   "cell_type": "code",
   "execution_count": 15,
   "metadata": {},
   "outputs": [
    {
     "name": "stdout",
     "output_type": "stream",
     "text": [
      "40/40 [==============================] - 0s 798us/step\n"
     ]
    },
    {
     "data": {
      "image/png": "[encoded data removed]",
      "text/plain": [
       "<Figure size 700x600 with 2 Axes>"
      ]
     },
     "metadata": {},
     "output_type": "display_data"
    },
    {
     "name": "stdout",
     "output_type": "stream",
     "text": [
      "Classification Report\n",
      "              precision    recall  f1-score   support\n",
      "\n",
      "           0       0.98      0.99      0.99       399\n",
      "           1       0.99      0.87      0.92       418\n",
      "           2       0.86      0.98      0.92       341\n",
      "           3       1.00      0.96      0.98       109\n",
      "\n",
      "    accuracy                           0.95      1267\n",
      "   macro avg       0.96      0.95      0.95      1267\n",
      "weighted avg       0.95      0.95      0.95      1267\n",
      "\n"
     ]
    }
   ],
   "source": [
    "import pandas as pd\n",
    "import seaborn as sns\n",
    "import matplotlib.pyplot as plt\n",
    "from sklearn.metrics import confusion_matrix, classification_report\n",
    "\n",
    "def print_confusion_matrix(y_true, y_pred, report=True):\n",
    "    labels = sorted(list(set(y_true)))\n",
    "    cmx_data = confusion_matrix(y_true, y_pred, labels=labels)\n",
    "    \n",
    "    df_cmx = pd.DataFrame(cmx_data, index=labels, columns=labels)\n",
    " \n",
    "    fig, ax = plt.subplots(figsize=(7, 6))\n",
    "    sns.heatmap(df_cmx, annot=True, fmt='g' ,square=False)\n",
    "    ax.set_ylim(len(set(y_true)), 0)\n",
    "    plt.show()\n",
    "    \n",
    "    if report:\n",
    "        print('Classification Report')\n",
    "        print(classification_report(y_test, y_pred))\n",
    "\n",
    "Y_pred = model.predict(X_test)\n",
    "y_pred = np.argmax(Y_pred, axis=1)\n",
    "\n",
    "print_confusion_matrix(y_test, y_pred)"
   ]
  },
  {
   "cell_type": "markdown",
   "metadata": {},
   "source": [
    "# Tensorflow-Lite用のモデルへ変換"
   ]
  },
  {
   "cell_type": "code",
   "execution_count": 16,
   "metadata": {},
   "outputs": [],
   "source": [
    "# 推論専用のモデルとして保存\n",
    "model.save(model_save_path, include_optimizer=False)"
   ]
  },
  {
   "cell_type": "code",
   "execution_count": 17,
   "metadata": {},
   "outputs": [
    {
     "name": "stdout",
     "output_type": "stream",
     "text": [
      "INFO:tensorflow:Assets written to: C:\\Users\\Narga\\AppData\\Local\\Temp\\tmp9hq84g0h\\assets\n"
     ]
    },
    {
     "data": {
      "text/plain": [
       "6544"
      ]
     },
     "execution_count": 17,
     "metadata": {},
     "output_type": "execute_result"
    }
   ],
   "source": [
    "# モデルを変換(量子化)\n",
    "tflite_save_path = 'model/keypoint_classifier/keypoint_classifier.tflite'\n",
    "\n",
    "converter = tf.lite.TFLiteConverter.from_keras_model(model)\n",
    "converter.optimizations = [tf.lite.Optimize.DEFAULT]\n",
    "tflite_quantized_model = converter.convert()\n",
    "\n",
    "open(tflite_save_path, 'wb').write(tflite_quantized_model)"
   ]
  },
  {
   "cell_type": "markdown",
   "metadata": {},
   "source": [
    "# 推論テスト"
   ]
  },
  {
   "cell_type": "code",
   "execution_count": 18,
   "metadata": {},
   "outputs": [],
   "source": [
    "interpreter = tf.lite.Interpreter(model_path=tflite_save_path)\n",
    "interpreter.allocate_tensors()"
   ]
  },
  {
   "cell_type": "code",
   "execution_count": 19,
   "metadata": {},
   "outputs": [],
   "source": [
    "# 入出力テンソルを取得\n",
    "input_details = interpreter.get_input_details()\n",
    "output_details = interpreter.get_output_details()"
   ]
  },
  {
   "cell_type": "code",
   "execution_count": 20,
   "metadata": {},
   "outputs": [],
   "source": [
    "interpreter.set_tensor(input_details[0]['index'], np.array([X_test[0]]))"
   ]
  },
  {
   "cell_type": "code",
   "execution_count": 21,
   "metadata": {
    "scrolled": true
   },
   "outputs": [
    {
     "name": "stdout",
     "output_type": "stream",
     "text": [
      "CPU times: total: 0 ns\n",
      "Wall time: 0 ns\n"
     ]
    }
   ],
   "source": [
    "%%time\n",
    "# 推論実施\n",
    "interpreter.invoke()\n",
    "tflite_results = interpreter.get_tensor(output_details[0]['index'])"
   ]
  },
  {
   "cell_type": "code",
   "execution_count": 22,
   "metadata": {},
   "outputs": [
    {
     "name": "stdout",
     "output_type": "stream",
     "text": [
      "[9.1743267e-01 7.8308009e-02 4.1907411e-03 6.8661946e-05]\n",
      "0\n"
     ]
    }
   ],
   "source": [
    "print(np.squeeze(tflite_results))\n",
    "print(np.argmax(np.squeeze(tflite_results)))"
   ]
  }
 ],
 "metadata": {
  "kernelspec": {
   "display_name": "Python 3 (ipykernel)",
   "language": "python",
   "name": "python3"
  },
  "language_info": {
   "codemirror_mode": {
    "name": "ipython",
    "version": 3
   },
   "file_extension": ".py",
   "mimetype": "text/x-python",
   "name": "python",
   "nbconvert_exporter": "python",
   "pygments_lexer": "ipython3",
   "version": "3.10.11"
  }
 },
 "nbformat": 4,
 "nbformat_minor": 4
}
